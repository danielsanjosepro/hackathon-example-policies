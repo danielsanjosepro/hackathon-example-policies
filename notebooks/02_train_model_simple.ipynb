{
 "cells": [
  {
   "cell_type": "markdown",
   "metadata": {},
   "source": [
    "# 🚀 Model Training\n",
    "\n",
    "This notebook guides you through the process of training a policy on your converted dataset. \n",
    "\n",
    "The process is broken down into a few simple steps:\n",
    "1.  **Setup**: Apply necessary patches to the `lerobot` library.\n",
    "2.  **Dataset**: Specify the path to your training data.\n",
    "3.  **Configuration**: Select a model architecture and its hyperparameters.\n",
    "4.  **Training**: Launch the training process."
   ]
  },
  {
   "cell_type": "markdown",
   "metadata": {},
   "source": [
    "--- \n",
    "### 1. Setup\n",
    "\n",
    "First, apply our custom patches to the `lerobot` library. This only needs to be done once per session."
   ]
  },
  {
   "cell_type": "code",
   "execution_count": 1,
   "metadata": {},
   "outputs": [
    {
     "name": "stderr",
     "output_type": "stream",
     "text": [
      "/home/max/code/hackathon_example_policies/.venv/lib/python3.10/site-packages/tqdm/auto.py:21: TqdmWarning: IProgress not found. Please update jupyter and ipywidgets. See https://ipywidgets.readthedocs.io/en/stable/user_install.html\n",
      "  from .autonotebook import tqdm as notebook_tqdm\n"
     ]
    }
   ],
   "source": [
    "from example_policies import lerobot_patches\n",
    "\n",
    "lerobot_patches.apply_patches()"
   ]
  },
  {
   "cell_type": "markdown",
   "metadata": {},
   "source": [
    "--- \n",
    "### 2. Select Dataset\n",
    "\n",
    "> **Action Required:** Update `DATA_DIR` to point to the dataset you created in the previous notebook."
   ]
  },
  {
   "cell_type": "code",
   "execution_count": 3,
   "metadata": {},
   "outputs": [],
   "source": [
    "import pathlib\n",
    "\n",
    "# TODO: Set the path to your converted dataset directory.\n",
    "DATA_DIR = pathlib.Path(\"../data/my_awesome_dataset\")"
   ]
  },
  {
   "cell_type": "markdown",
   "metadata": {},
   "source": [
    "--- \n",
    "### 3. Select Model Configuration\n",
    "\n",
    "We provide several pre-made configurations as a starting point. Uncomment the model you wish to use. You can also adjust parameters like `batch_size` as needed."
   ]
  },
  {
   "cell_type": "code",
   "execution_count": null,
   "metadata": {},
   "outputs": [],
   "source": [
    "# Select one of the following configurations\n",
    "from example_policies.config_factory import act_config, diffusion_config, smolvla_config\n",
    "\n",
    "cfg = act_config(DATA_DIR)"
   ]
  },
  {
   "cell_type": "markdown",
   "metadata": {},
   "source": [
    "You can specify additional keywords by looking at the lerobot configuration code, e.g. `lerobot.policies.act.configuration_act`\n",
    "and then adapt the code cell accordingly:\n",
    "```python\n",
    "cfg = act_config(DATA_DIR, policy_kwargs={\n",
    "    optimizer_lr=1e-5\n",
    "})\n",
    "```"
   ]
  },
  {
   "cell_type": "markdown",
   "metadata": {},
   "source": [
    "--- \n",
    "### 4. Start Training\n",
    "\n",
    "This cell will start the training process. Metrics and logs will be streamed to the console, and if you have configured it, to Weights & Biases."
   ]
  },
  {
   "cell_type": "code",
   "execution_count": null,
   "metadata": {},
   "outputs": [],
   "source": [
    "from example_policies.train import train\n",
    "\n",
    "train(cfg)"
   ]
  },
  {
   "cell_type": "markdown",
   "metadata": {},
   "source": []
  },
  {
   "cell_type": "markdown",
   "metadata": {},
   "source": []
  }
 ],
 "metadata": {
  "kernelspec": {
   "display_name": "hackathon_example_policies",
   "language": "python",
   "name": "python3"
  },
  "language_info": {
   "codemirror_mode": {
    "name": "ipython",
    "version": 3
   },
   "file_extension": ".py",
   "mimetype": "text/x-python",
   "name": "python",
   "nbconvert_exporter": "python",
   "pygments_lexer": "ipython3",
   "version": "3.10.18"
  }
 },
 "nbformat": 4,
 "nbformat_minor": 2
}

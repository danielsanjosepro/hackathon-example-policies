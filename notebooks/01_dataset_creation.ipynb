{
 "cells": [
  {
   "cell_type": "markdown",
   "metadata": {},
   "source": [
    "# 💿 Dataset Conversion\n",
    "\n",
    "This notebook converts raw robot recordings (`.mcap` files) into the LeRobot format required for training. \n",
    "\n",
    "The process involves:\n",
    "1.  **Exploring** the available raw data.\n",
    "2.  **Configuring** the dataset parameters (e.g., observations, actions).\n",
    "3.  **Running** the conversion script."
   ]
  },
  {
   "cell_type": "markdown",
   "metadata": {},
   "source": [
    "--- \n",
    "## 1. Explore Raw Data\n",
    "\n",
    "First, let's list the available raw data directories. Each directory contains a set of `.mcap` files from different teleoperation sessions."
   ]
  },
  {
   "cell_type": "code",
   "execution_count": null,
   "metadata": {},
   "outputs": [],
   "source": [
    "!du -sh /data/*"
   ]
  },
  {
   "cell_type": "markdown",
   "metadata": {},
   "source": [
    "--- \n",
    "## 2. Configure Conversion\n",
    "\n",
    "Now, specify the input and output paths and define the dataset's structure. \n",
    "\n",
    "> **Action Required:** Update `RAW_DATA_DIR` and `OUTPUT_DIR` below."
   ]
  },
  {
   "cell_type": "code",
   "execution_count": null,
   "metadata": {},
   "outputs": [],
   "source": [
    "import pathlib\n",
    "from example_policies.data_ops.config.pipeline_config import PipelineConfig, ActionLevel\n",
    "\n",
    "# --- Paths ---\n",
    "# TODO: Set the input directory containing your .mcap files.\n",
    "RAW_DATA_DIR = pathlib.Path(\"/data/SOME_RAW_DATA\")\n",
    "\n",
    "# TODO: Set your desired output directory name.\n",
    "OUTPUT_DIR = pathlib.Path(\"/data/OUTPUT_NAME\")\n",
    "\n",
    "# --- Configuration ---\n",
    "# TODO: A descriptive label for the task, used for VLA-style text conditioning.\n",
    "TASK_LABEL = \"pick up the red block\"\n",
    "\n",
    "cfg = PipelineConfig(\n",
    "    task_name=TASK_LABEL,\n",
    "    # Observation features to include in the dataset.\n",
    "    include_tcp_poses=True,\n",
    "    include_rgb_images=True,\n",
    "    include_depth_images=False,\n",
    "    # Action representation. DELTA_TCP is a good default.\n",
    "    action_level=ActionLevel.DELTA_TCP,\n",
    "    # Subsampling and filtering. These are task-dependent.\n",
    "    target_fps=10,\n",
    "    max_pause_seconds=0.2,\n",
    "    min_episode_seconds=15,\n",
    ")\n",
    "\n",
    "print(f\"Input path:  {RAW_DATA_DIR}\")\n",
    "print(f\"Output path: {OUTPUT_DIR}\")"
   ]
  },
  {
   "cell_type": "markdown",
   "metadata": {},
   "source": [
    "--- \n",
    "## 3. Run Conversion\n",
    "\n",
    "This cell executes the conversion process. It may take a while depending on the size of your data. You will see progress updates printed below."
   ]
  },
  {
   "cell_type": "code",
   "execution_count": null,
   "metadata": {},
   "outputs": [],
   "source": [
    "from example_policies.data_ops.dataset_conversion import convert_episodes\n",
    "\n",
    "convert_episodes(RAW_DATA_DIR, OUTPUT_DIR, cfg)"
   ]
  },
  {
   "cell_type": "markdown",
   "metadata": {},
   "source": [
    "--- \n",
    "## ✅ Done!\n",
    "\n",
    "Your new dataset is ready at the output path you specified. You can now proceed to the next notebook to train a policy."
   ]
  }
 ],
 "metadata": {
  "kernelspec": {
   "display_name": "Python 3",
   "language": "python",
   "name": "python3"
  },
  "language_info": {
   "codemirror_mode": {
    "name": "ipython",
    "version": 3
   },
   "file_extension": ".py",
   "mimetype": "text/x-python",
   "name": "python",
   "nbconvert_exporter": "python",
   "pygments_lexer": "ipython3",
   "version": "3.8.0"
  }
 },
 "nbformat": 4,
 "nbformat_minor": 2
}

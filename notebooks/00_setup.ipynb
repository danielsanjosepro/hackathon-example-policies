{
 "cells": [
  {
   "cell_type": "markdown",
   "id": "174d7b99",
   "metadata": {},
   "source": [
    "# 🛠️ Environment Setup\n",
    "\n",
    "This notebook guides you through setting up your local and remote development environments for the hackathon.\n",
    "Please also refer to the [Setup Documentation](../docs/01_connect_vscode.md)\n",
    "\n",
    "---\n",
    "\n",
    "## 💻 Local Environment\n",
    "\n",
    "For local development, we recommend using [`uv`](https://github.com/astral-sh/uv) to manage your virtual environment. This setup enables features like code completion and GitHub Copilot in your local VS Code.\n",
    "\n",
    "1.  **Install `uv`**: Follow the instructions on the [official `uv` website](https://github.com/astral-sh/uv) to install it on your operating system.\n",
    "2.  **Create a virtual environment**:\n",
    "    ```bash\n",
    "    uv venv\n",
    "    ```\n",
    "3.  **Activate the environment**:\n",
    "    ```bash\n",
    "    source .venv/bin/activate\n",
    "    ```\n",
    "4.  **Install the starter kit**:\n",
    "    ```bash\n",
    "    pip install -e .\n",
    "    ```"
   ]
  },
  {
   "cell_type": "markdown",
   "id": "239b4ddc",
   "metadata": {},
   "source": [
    "---\n",
    "\n",
    "## ☁️ Remote JupyterHub Environment\n",
    "\n",
    "On the remote JupyterHub server, you only need to run the following cell to get started. This will:\n",
    "\n",
    "1.  Create a symbolic link to the dataset directory for easy access.\n",
    "2.  Install the starter kit in editable mode."
   ]
  },
  {
   "cell_type": "code",
   "execution_count": 1,
   "id": "0a7e96af",
   "metadata": {},
   "outputs": [],
   "source": [
    "!ln -s /data data\n",
    "!git clone https://github.com/pokeandwiggle/hackathon-example-policies.git\n",
    "!pip install -e hackathon-example-policies"
   ]
  },
  {
   "cell_type": "markdown",
   "id": "f1f5d813",
   "metadata": {},
   "source": [
    "## 📊 Tracking Experiments with Weights & Biases\n",
    "\n",
    "To keep track of your experiments, we recommend using [Weights & Biases (wandb)](https://wandb.ai/). It helps you log metrics and visualize results. For students and academics, they offer premium features for free.\n",
    "\n",
    "**Getting started:**\n",
    "1. Wandb should be automatically installed as part of the starter kit software. Else try:\n",
    "    ```bash\n",
    "    pip install wandb\n",
    "    ```\n",
    "\n",
    "Check out the [wandb documentation](https://docs.wandb.ai/) for more details and advanced features!\n",
    "Now you only need to login and start tracking!"
   ]
  },
  {
   "cell_type": "code",
   "execution_count": null,
   "id": "fafa02e1",
   "metadata": {},
   "outputs": [],
   "source": [
    "!wandb login"
   ]
  }
 ],
 "metadata": {
  "kernelspec": {
   "display_name": "Python 3 (ipykernel)",
   "language": "python",
   "name": "python3"
  }
 },
 "nbformat": 4,
 "nbformat_minor": 5
}

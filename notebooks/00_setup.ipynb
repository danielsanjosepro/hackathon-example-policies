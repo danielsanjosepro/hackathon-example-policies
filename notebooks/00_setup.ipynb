{
 "cells": [
  {
   "cell_type": "markdown",
   "id": "174d7b99",
   "metadata": {},
   "source": [
    "# 🛠️ Environment Setup\n",
    "\n",
    "This notebook guides you through setting up your local and remote development environments for the hackathon.\n",
    "\n",
    "---\n",
    "\n",
    "## 💻 Local Environment\n",
    "\n",
    "For local development, we recommend using [`uv`](https://github.com/astral-sh/uv) to manage your virtual environment. This setup enables features like code completion and GitHub Copilot in your local VS Code.\n",
    "\n",
    "1.  **Install `uv`**: Follow the instructions on the [official `uv` website](https://github.com/astral-sh/uv) to install it on your operating system.\n",
    "2.  **Create a virtual environment**:\n",
    "    ```bash\n",
    "    uv venv\n",
    "    ```\n",
    "3.  **Activate the environment**:\n",
    "    ```bash\n",
    "    source .venv/bin/activate\n",
    "    ```\n",
    "4.  **Install the starter kit**:\n",
    "    ```bash\n",
    "    pip install -e .\n",
    "    ```"
   ]
  },
  {
   "cell_type": "markdown",
   "id": "239b4ddc",
   "metadata": {},
   "source": [
    "---\n",
    "\n",
    "## ☁️ Remote JupyterHub Environment\n",
    "\n",
    "On the remote JupyterHub server, you only need to run the following cell to get started. This will:\n",
    "\n",
    "1.  Create a symbolic link to the dataset directory for easy access.\n",
    "2.  Install the starter kit in editable mode."
   ]
  },
  {
   "cell_type": "code",
   "execution_count": 1,
   "id": "0a7e96af",
   "metadata": {},
   "outputs": [
    {
     "name": "stdout",
     "output_type": "stream",
     "text": [
      "Obtaining file:///home/jovyan\n",
      "\u001b[31mERROR: file:///home/jovyan does not appear to be a Python project: neither 'setup.py' nor 'pyproject.toml' found.\u001b[0m\u001b[31m\n",
      "\u001b[0m"
     ]
    }
   ],
   "source": [
    "!ln -s /data data\n",
    "!pip install -e ."
   ]
  },
  {
   "cell_type": "markdown",
   "id": "f1f5d813",
   "metadata": {},
   "source": [
    "## 📊 Tracking Experiments with Weights & Biases\n",
    "\n",
    "To keep track of your experiments, we recommend using [Weights & Biases (wandb)](https://wandb.ai/). It helps you log metrics and visualize results. For students and academics, they offer premium features for free.\n",
    "\n",
    "**Getting started:**\n",
    "1. Wandb should be automatically installed as part of the starter kit software. Else try:\n",
    "    ```bash\n",
    "    pip install wandb\n",
    "    ```\n",
    "\n",
    "Check out the [wandb documentation](https://docs.wandb.ai/) for more details and advanced features!\n",
    "Now you only need to login and start tracking!"
   ]
  },
  {
   "cell_type": "code",
   "execution_count": null,
   "id": "fafa02e1",
   "metadata": {},
   "outputs": [],
   "source": [
    "!wandb login"
   ]
  }
 ],
 "metadata": {
  "kernelspec": {
   "display_name": "hackathon_example_policies",
   "language": "python",
   "name": "python3"
  },
  "language_info": {
   "codemirror_mode": {
    "name": "ipython",
    "version": 3
   },
   "file_extension": ".py",
   "mimetype": "text/x-python",
   "name": "python",
   "nbconvert_exporter": "python",
   "pygments_lexer": "ipython3",
   "version": "3.10.18"
  }
 },
 "nbformat": 4,
 "nbformat_minor": 5
}

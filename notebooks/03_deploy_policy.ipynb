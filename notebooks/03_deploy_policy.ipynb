{
 "cells": [
  {
   "cell_type": "markdown",
   "id": "fa93b9d1",
   "metadata": {},
   "source": [
    "# 🚀 Deploy a Trained Policy\n",
    "\n",
    "This notebook guides you through deploying a trained policy to a physical robot. \n",
    "\n",
    "### Process:\n",
    "1.  **Configure**: Set the path to your trained model and the robot's server address.\n",
    "2.  **Load**: The `policy_loader` automatically loads the model and its training configuration.\n",
    "3.  **Deploy**: The `deploy_policy` function starts the inference loop and sends commands to the robot.\n",
    "\n",
    "The deployment script automatically handles details like the action space (`tcp`, `joint`, etc.) based on the loaded training configuration."
   ]
  },
  {
   "cell_type": "markdown",
   "id": "e596978f",
   "metadata": {},
   "source": [
    "## 1. Configuration\n",
    "\n",
    "First, specify the necessary parameters for deployment. **You must edit these values.**"
   ]
  },
  {
   "cell_type": "code",
   "execution_count": null,
   "id": "d8d6840b",
   "metadata": {},
   "outputs": [],
   "source": [
    "import pathlib\n",
    "\n",
    "# TODO: Change to the directory containing your trained policy checkpoint.\n",
    "# Example: \"outputs/2025-09-14/12-00-00\"\n",
    "CHECKPOINT_DIR = pathlib.Path(\"outputs/<policy_checkpoint_dir>\")\n",
    "\n",
    "# TODO: Change to the robot's IP address.\n",
    "SERVER_ENDPOINT = \"<robot_ip_address>:50051\"\n",
    "\n",
    "# Inference frequency in Hz. Higher values result in smoother but potentially faster movements.\n",
    "INFERENCE_FREQUENCY_HZ: float = 5.0\n",
    "\n",
    "print(f\"Attempting to load policy from: {CHECKPOINT_DIR}\")\n",
    "print(f\"Robot server endpoint: {SERVER_ENDPOINT}\")\n",
    "print(f\"Inference frequency: {INFERENCE_FREQUENCY_HZ} Hz\")"
   ]
  },
  {
   "cell_type": "markdown",
   "id": "09d6129b",
   "metadata": {},
   "source": [
    "## 2. Load the Policy\n",
    "\n",
    "Now, we load the policy from the specified checkpoint directory. The loader will find the latest checkpoint and its corresponding configuration file."
   ]
  },
  {
   "cell_type": "code",
   "execution_count": null,
   "id": "855477b3",
   "metadata": {},
   "outputs": [],
   "source": [
    "from example_policies.robot_deploy import policy_loader\n",
    "\n",
    "policy, cfg = policy_loader.load_policy(CHECKPOINT_DIR)\n",
    "\n",
    "print(\"✅ Policy loaded successfully!\")"
   ]
  },
  {
   "cell_type": "markdown",
   "id": "2c3740f5",
   "metadata": {},
   "source": [
    "## 3. (Optional) Modify Policy Attributes\n",
    "\n",
    "Before deployment, you can override policy attributes for experimentation. For example, you might want to adjust the action chunking (`n_action_steps`) to see how it affects robot behavior."
   ]
  },
  {
   "cell_type": "code",
   "execution_count": null,
   "id": "6808129b",
   "metadata": {},
   "outputs": [],
   "source": [
    "# Uncomment and modify the lines below to change policy attributes.\n",
    "# For available options, refer to the lerobot policy's config documentation.\n",
    "\n",
    "# Change the device on the config, not the policy!!\n",
    "cfg.device = \"cuda\"\n",
    "policy.to(cfg.device)  # or \"cpu\"\n",
    "# policy.n_action_steps = 15  # Number of actions to predict in each forward pass\n",
    "\n",
    "# print(f\"Action steps set to: {policy.n_action_steps}\")"
   ]
  },
  {
   "cell_type": "markdown",
   "id": "b10fa971",
   "metadata": {},
   "source": [
    "## 4. Deploy to Robot\n",
    "\n",
    "Finally, execute the cell below to start sending commands to the robot.\n",
    "\n",
    "⚠️ **Warning**: This will move the physical robot. Ensure the robot has a clear and safe workspace."
   ]
  },
  {
   "cell_type": "code",
   "execution_count": null,
   "id": "e7aa34a0",
   "metadata": {},
   "outputs": [],
   "source": [
    "from example_policies.robot_deploy.deploy import deploy_policy, RobotClient\n",
    "\n",
    "# CART_WAYPOINT is most stable and responsive. For legacy behaviour, use CART_QUEUE.\n",
    "# JOINT_DIRECT and CART_DIRECT are less stable and not recommended at the moment\n",
    "deploy_policy(\n",
    "    policy,\n",
    "    cfg,\n",
    "    hz=INFERENCE_FREQUENCY_HZ,\n",
    "    server=SERVER_ENDPOINT,\n",
    "    controller=RobotClient.CART_WAYPOINT,\n",
    ")"
   ]
  }
 ],
 "metadata": {
  "kernelspec": {
   "display_name": "hackathon_example_policies",
   "language": "python",
   "name": "python3"
  },
  "language_info": {
   "name": "python",
   "version": "3.10.18"
  }
 },
 "nbformat": 4,
 "nbformat_minor": 5
}

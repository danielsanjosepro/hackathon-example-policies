{
 "cells": [
  {
   "cell_type": "markdown",
   "id": "47392cae",
   "metadata": {},
   "source": [
    "!python ~/repos/hackathon-example-policies/src/example_policies/validate_with_plot.py --checkpoint outputs/train/2025-09-16/16-37-30_integrated_so3_diffusion/checkpoints/last/pretrained_model --dataset /data/pick_and_place_block_di16 --episode 0 --output ./actions_episode0.png "
   ]
  }
 ],
 "metadata": {
  "language_info": {
   "name": "python"
  }
 },
 "nbformat": 4,
 "nbformat_minor": 5
}
